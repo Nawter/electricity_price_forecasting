{
 "cells": [
  {
   "cell_type": "code",
   "execution_count": 1,
   "metadata": {},
   "outputs": [],
   "source": [
    "import sys\n",
    "sys.path.append('..')\n",
    "\n",
    "import pandas as pd\n",
    "from sklearn.ensemble import RandomForestRegressor\n",
    "\n",
    "from utils.matplotlib_functions import single_ax_plot\n",
    "from utils.sklearn_functions import cross_validation"
   ]
  },
  {
   "cell_type": "markdown",
   "metadata": {},
   "source": [
    "# Cleaning the raw data"
   ]
  },
  {
   "cell_type": "code",
   "execution_count": 2,
   "metadata": {},
   "outputs": [],
   "source": [
    "raw = pd.read_csv('../data_gathering/wind/wf1.csv', index_col=0, parse_dates=True)\n",
    "\n",
    "new_index = []\n",
    "for stamp in raw.index:\n",
    "    new = '2' + stamp[1:]\n",
    "    new_index.append(new)\n",
    "\n",
    "raw.index = pd.to_datetime(new_index)"
   ]
  },
  {
   "cell_type": "code",
   "execution_count": 3,
   "metadata": {},
   "outputs": [],
   "source": [
    "from utils.pd_functions import check_duplicate_index, check_duplicate_rows, check_nans, check_index_length"
   ]
  },
  {
   "cell_type": "code",
   "execution_count": 4,
   "metadata": {},
   "outputs": [
    {
     "name": "stdout",
     "output_type": "stream",
     "text": [
      "no duplicates found\n"
     ]
    }
   ],
   "source": [
    "check_duplicate_index(raw)"
   ]
  },
  {
   "cell_type": "code",
   "execution_count": 5,
   "metadata": {},
   "outputs": [
    {
     "name": "stdout",
     "output_type": "stream",
     "text": [
      "no duplicate rows found\n"
     ]
    }
   ],
   "source": [
    "check_duplicate_rows(raw)"
   ]
  },
  {
   "cell_type": "code",
   "execution_count": 6,
   "metadata": {},
   "outputs": [
    {
     "name": "stdout",
     "output_type": "stream",
     "text": [
      "0 nans\n"
     ]
    }
   ],
   "source": [
    "check_nans(raw)"
   ]
  },
  {
   "cell_type": "code",
   "execution_count": 7,
   "metadata": {},
   "outputs": [
    {
     "name": "stdout",
     "output_type": "stream",
     "text": [
      "ideal index len 17518\n",
      "actual index len 16920\n",
      "missing are:\n",
      "{Timestamp('2000-01-27 22:00:00', freq='H'), Timestamp('2001-10-25 22:00:00', freq='H'), Timestamp('2000-02-29 20:00:00', freq='H'), Timestamp('2000-03-31 12:00:00', freq='H'), Timestamp('2000-08-30 06:00:00', freq='H'), Timestamp('2000-02-29 11:00:00', freq='H'), Timestamp('2000-01-22 05:00:00', freq='H'), Timestamp('2001-10-26 14:00:00', freq='H'), Timestamp('2001-12-04 23:00:00', freq='H'), Timestamp('2000-01-22 20:00:00', freq='H'), Timestamp('2001-01-24 11:00:00', freq='H'), Timestamp('2001-12-06 07:00:00', freq='H'), Timestamp('2001-01-24 12:00:00', freq='H'), Timestamp('2001-12-04 08:00:00', freq='H'), Timestamp('2000-01-24 11:00:00', freq='H'), Timestamp('2001-11-30 20:00:00', freq='H'), Timestamp('2001-09-05 10:00:00', freq='H'), Timestamp('2001-12-05 09:00:00', freq='H'), Timestamp('2001-11-30 01:00:00', freq='H'), Timestamp('2000-10-27 01:00:00', freq='H'), Timestamp('2001-11-30 11:00:00', freq='H'), Timestamp('2000-02-29 08:00:00', freq='H'), Timestamp('2000-10-27 00:00:00', freq='H'), Timestamp('2000-03-31 00:00:00', freq='H'), Timestamp('2001-12-02 21:00:00', freq='H'), Timestamp('2001-12-02 20:00:00', freq='H'), Timestamp('2001-12-01 16:00:00', freq='H'), Timestamp('2000-03-01 00:00:00', freq='H'), Timestamp('2000-10-08 14:00:00', freq='H'), Timestamp('2000-01-24 00:00:00', freq='H'), Timestamp('2001-12-03 04:00:00', freq='H'), Timestamp('2001-11-30 22:00:00', freq='H'), Timestamp('2001-12-01 17:00:00', freq='H'), Timestamp('2000-01-27 18:00:00', freq='H'), Timestamp('2000-10-08 08:00:00', freq='H'), Timestamp('2000-10-07 15:00:00', freq='H'), Timestamp('2000-08-30 09:00:00', freq='H'), Timestamp('2001-12-03 10:00:00', freq='H'), Timestamp('2000-02-27 17:00:00', freq='H'), Timestamp('2000-01-27 14:00:00', freq='H'), Timestamp('2001-12-03 08:00:00', freq='H'), Timestamp('2001-03-30 10:00:00', freq='H'), Timestamp('2001-12-03 02:00:00', freq='H'), Timestamp('2000-01-25 03:00:00', freq='H'), Timestamp('2001-09-06 09:00:00', freq='H'), Timestamp('2000-01-26 19:00:00', freq='H'), Timestamp('2001-11-29 16:00:00', freq='H'), Timestamp('2000-01-26 02:00:00', freq='H'), Timestamp('2000-01-28 06:00:00', freq='H'), Timestamp('2000-01-22 23:00:00', freq='H'), Timestamp('2000-01-27 07:00:00', freq='H'), Timestamp('2001-12-03 14:00:00', freq='H'), Timestamp('2000-01-23 04:00:00', freq='H'), Timestamp('2001-12-03 23:00:00', freq='H'), Timestamp('2001-12-03 16:00:00', freq='H'), Timestamp('2001-12-01 12:00:00', freq='H'), Timestamp('2000-01-26 09:00:00', freq='H'), Timestamp('2000-01-26 11:00:00', freq='H'), Timestamp('2000-03-01 12:00:00', freq='H'), Timestamp('2000-01-25 10:00:00', freq='H'), Timestamp('2000-02-29 05:00:00', freq='H'), Timestamp('2001-03-30 19:00:00', freq='H'), Timestamp('2000-02-27 13:00:00', freq='H'), Timestamp('2000-01-23 09:00:00', freq='H'), Timestamp('2000-01-25 17:00:00', freq='H'), Timestamp('2000-01-27 08:00:00', freq='H'), Timestamp('2001-09-06 12:00:00', freq='H'), Timestamp('2001-12-04 16:00:00', freq='H'), Timestamp('2000-01-26 00:00:00', freq='H'), Timestamp('2001-03-30 22:00:00', freq='H'), Timestamp('2001-12-01 11:00:00', freq='H'), Timestamp('2001-11-30 23:00:00', freq='H'), Timestamp('2000-03-31 03:00:00', freq='H'), Timestamp('2000-01-28 09:00:00', freq='H'), Timestamp('2000-01-28 03:00:00', freq='H'), Timestamp('2000-01-24 05:00:00', freq='H'), Timestamp('2000-02-27 15:00:00', freq='H'), Timestamp('2001-10-26 19:00:00', freq='H'), Timestamp('2000-01-27 17:00:00', freq='H'), Timestamp('2000-01-25 22:00:00', freq='H'), Timestamp('2000-10-27 16:00:00', freq='H'), Timestamp('2001-01-25 10:00:00', freq='H'), Timestamp('2000-01-26 22:00:00', freq='H'), Timestamp('2001-12-05 06:00:00', freq='H'), Timestamp('2001-12-02 01:00:00', freq='H'), Timestamp('2001-11-30 15:00:00', freq='H'), Timestamp('2000-03-01 07:00:00', freq='H'), Timestamp('2000-01-22 01:00:00', freq='H'), Timestamp('2001-10-26 09:00:00', freq='H'), Timestamp('2000-03-31 14:00:00', freq='H'), Timestamp('2001-12-02 09:00:00', freq='H'), Timestamp('2000-01-21 13:00:00', freq='H'), Timestamp('2000-01-22 22:00:00', freq='H'), Timestamp('2000-10-26 22:00:00', freq='H'), Timestamp('2000-01-23 02:00:00', freq='H'), Timestamp('2001-01-25 15:00:00', freq='H'), Timestamp('2001-12-01 02:00:00', freq='H'), Timestamp('2001-10-25 23:00:00', freq='H'), Timestamp('2001-12-02 22:00:00', freq='H'), Timestamp('2000-08-30 04:00:00', freq='H'), Timestamp('2000-10-27 22:00:00', freq='H'), Timestamp('2001-12-05 08:00:00', freq='H'), Timestamp('2000-01-26 08:00:00', freq='H'), Timestamp('2001-12-01 09:00:00', freq='H'), Timestamp('2000-01-27 13:00:00', freq='H'), Timestamp('2001-12-02 02:00:00', freq='H'), Timestamp('2001-12-02 05:00:00', freq='H'), Timestamp('2001-12-04 01:00:00', freq='H'), Timestamp('2000-01-24 06:00:00', freq='H'), Timestamp('2000-01-23 20:00:00', freq='H'), Timestamp('2000-01-24 20:00:00', freq='H'), Timestamp('2001-11-29 17:00:00', freq='H'), Timestamp('2001-12-04 21:00:00', freq='H'), Timestamp('2001-12-04 12:00:00', freq='H'), Timestamp('2000-01-28 08:00:00', freq='H'), Timestamp('2001-10-26 10:00:00', freq='H'), Timestamp('2000-01-22 07:00:00', freq='H'), Timestamp('2000-01-23 13:00:00', freq='H'), Timestamp('2000-01-25 07:00:00', freq='H'), Timestamp('2001-10-26 12:00:00', freq='H'), Timestamp('2000-01-22 09:00:00', freq='H'), Timestamp('2001-09-05 14:00:00', freq='H'), Timestamp('2000-01-26 15:00:00', freq='H'), Timestamp('2000-01-28 11:00:00', freq='H'), Timestamp('2000-01-24 04:00:00', freq='H'), Timestamp('2000-01-26 14:00:00', freq='H'), Timestamp('2001-03-30 16:00:00', freq='H'), Timestamp('2000-08-29 06:00:00', freq='H'), Timestamp('2000-01-24 21:00:00', freq='H'), Timestamp('2001-09-06 08:00:00', freq='H'), Timestamp('2001-12-02 12:00:00', freq='H'), Timestamp('2000-01-21 22:00:00', freq='H'), Timestamp('2000-02-29 07:00:00', freq='H'), Timestamp('2000-02-28 04:00:00', freq='H'), Timestamp('2000-01-22 11:00:00', freq='H'), Timestamp('2001-09-06 15:00:00', freq='H'), Timestamp('2001-12-04 00:00:00', freq='H'), Timestamp('2001-11-30 09:00:00', freq='H'), Timestamp('2000-03-31 07:00:00', freq='H'), Timestamp('2000-03-31 19:00:00', freq='H'), Timestamp('2001-10-26 18:00:00', freq='H'), Timestamp('2001-12-03 03:00:00', freq='H'), Timestamp('2001-12-06 09:00:00', freq='H'), Timestamp('2000-01-21 21:00:00', freq='H'), Timestamp('2000-08-29 07:00:00', freq='H'), Timestamp('2000-01-26 07:00:00', freq='H'), Timestamp('2001-09-06 07:00:00', freq='H'), Timestamp('2000-03-31 22:00:00', freq='H'), Timestamp('2001-01-24 15:00:00', freq='H'), Timestamp('2000-01-23 05:00:00', freq='H'), Timestamp('2000-01-26 23:00:00', freq='H'), Timestamp('2001-10-26 23:00:00', freq='H'), Timestamp('2000-08-30 11:00:00', freq='H'), Timestamp('2001-11-30 02:00:00', freq='H'), Timestamp('2001-12-01 08:00:00', freq='H'), Timestamp('2000-02-29 22:00:00', freq='H'), Timestamp('2001-09-06 11:00:00', freq='H'), Timestamp('2001-12-02 10:00:00', freq='H'), Timestamp('2001-11-30 04:00:00', freq='H'), Timestamp('2001-11-29 22:00:00', freq='H'), Timestamp('2000-10-08 09:00:00', freq='H'), Timestamp('2000-10-27 17:00:00', freq='H'), Timestamp('2001-12-03 01:00:00', freq='H'), Timestamp('2001-12-01 05:00:00', freq='H'), Timestamp('2000-02-29 17:00:00', freq='H'), Timestamp('2000-10-07 16:00:00', freq='H'), Timestamp('2000-03-01 10:00:00', freq='H'), Timestamp('2001-12-01 07:00:00', freq='H'), Timestamp('2000-02-27 21:00:00', freq='H'), Timestamp('2001-12-06 05:00:00', freq='H'), Timestamp('2000-10-27 10:00:00', freq='H'), Timestamp('2001-12-04 13:00:00', freq='H'), Timestamp('2000-10-07 13:00:00', freq='H'), Timestamp('2000-01-26 16:00:00', freq='H'), Timestamp('2000-01-23 16:00:00', freq='H'), Timestamp('2001-12-03 22:00:00', freq='H'), Timestamp('2000-01-27 19:00:00', freq='H'), Timestamp('2001-12-02 03:00:00', freq='H'), Timestamp('2001-12-03 12:00:00', freq='H'), Timestamp('2000-01-27 20:00:00', freq='H'), Timestamp('2000-01-23 19:00:00', freq='H'), Timestamp('2000-03-31 09:00:00', freq='H'), Timestamp('2001-12-03 05:00:00', freq='H'), Timestamp('2001-12-01 06:00:00', freq='H'), Timestamp('2000-10-27 11:00:00', freq='H'), Timestamp('2000-08-30 05:00:00', freq='H'), Timestamp('2000-03-31 02:00:00', freq='H'), Timestamp('2000-01-26 18:00:00', freq='H'), Timestamp('2000-03-01 16:00:00', freq='H'), Timestamp('2001-11-30 17:00:00', freq='H'), Timestamp('2000-03-31 05:00:00', freq='H'), Timestamp('2000-08-29 11:00:00', freq='H'), Timestamp('2000-01-21 17:00:00', freq='H'), Timestamp('2000-02-28 15:00:00', freq='H'), Timestamp('2000-01-25 15:00:00', freq='H'), Timestamp('2000-01-24 08:00:00', freq='H'), Timestamp('2001-12-04 06:00:00', freq='H'), Timestamp('2001-12-02 04:00:00', freq='H'), Timestamp('2001-12-05 22:00:00', freq='H'), Timestamp('2000-03-01 01:00:00', freq='H'), Timestamp('2001-12-06 00:00:00', freq='H'), Timestamp('2001-12-02 15:00:00', freq='H'), Timestamp('2001-12-05 04:00:00', freq='H'), Timestamp('2001-12-05 21:00:00', freq='H'), Timestamp('2000-01-25 23:00:00', freq='H'), Timestamp('2000-01-25 05:00:00', freq='H'), Timestamp('2000-02-28 08:00:00', freq='H'), Timestamp('2000-02-29 03:00:00', freq='H'), Timestamp('2000-01-28 10:00:00', freq='H'), Timestamp('2000-01-23 08:00:00', freq='H'), Timestamp('2000-10-27 04:00:00', freq='H'), Timestamp('2000-10-07 12:00:00', freq='H'), Timestamp('2001-12-01 00:00:00', freq='H'), Timestamp('2001-12-06 06:00:00', freq='H'), Timestamp('2000-03-31 21:00:00', freq='H'), Timestamp('2001-11-30 00:00:00', freq='H'), Timestamp('2001-01-24 16:00:00', freq='H'), Timestamp('2000-02-27 23:00:00', freq='H'), Timestamp('2001-12-01 10:00:00', freq='H'), Timestamp('2001-11-30 06:00:00', freq='H'), Timestamp('2000-02-29 13:00:00', freq='H'), Timestamp('2000-01-26 21:00:00', freq='H'), Timestamp('2001-12-06 04:00:00', freq='H'), Timestamp('2000-10-27 06:00:00', freq='H'), Timestamp('2000-03-31 16:00:00', freq='H'), Timestamp('2001-12-04 11:00:00', freq='H'), Timestamp('2000-02-28 12:00:00', freq='H'), Timestamp('2000-01-23 14:00:00', freq='H'), Timestamp('2000-03-31 08:00:00', freq='H'), Timestamp('2001-11-29 23:00:00', freq='H'), Timestamp('2001-10-26 20:00:00', freq='H'), Timestamp('2001-11-29 21:00:00', freq='H'), Timestamp('2000-03-01 08:00:00', freq='H'), Timestamp('2001-12-05 17:00:00', freq='H'), Timestamp('2001-11-30 18:00:00', freq='H'), Timestamp('2001-12-05 12:00:00', freq='H'), Timestamp('2001-12-04 15:00:00', freq='H'), Timestamp('2001-10-26 22:00:00', freq='H'), Timestamp('2000-01-26 17:00:00', freq='H'), Timestamp('2001-12-01 20:00:00', freq='H'), Timestamp('2000-02-28 19:00:00', freq='H'), Timestamp('2000-10-08 11:00:00', freq='H'), Timestamp('2000-01-27 01:00:00', freq='H'), Timestamp('2001-12-03 19:00:00', freq='H'), Timestamp('2001-12-03 17:00:00', freq='H'), Timestamp('2000-01-27 15:00:00', freq='H'), Timestamp('2001-11-30 19:00:00', freq='H'), Timestamp('2001-12-04 04:00:00', freq='H'), Timestamp('2001-03-30 00:00:00', freq='H'), Timestamp('2000-01-24 10:00:00', freq='H'), Timestamp('2001-11-29 07:00:00', freq='H'), Timestamp('2001-12-06 12:00:00', freq='H'), Timestamp('2000-01-24 03:00:00', freq='H'), Timestamp('2000-01-24 07:00:00', freq='H'), Timestamp('2000-02-29 02:00:00', freq='H'), Timestamp('2001-10-26 17:00:00', freq='H'), Timestamp('2001-12-01 04:00:00', freq='H'), Timestamp('2000-02-29 10:00:00', freq='H'), Timestamp('2000-01-25 04:00:00', freq='H'), Timestamp('2001-09-06 13:00:00', freq='H'), Timestamp('2001-12-03 13:00:00', freq='H'), Timestamp('2001-03-30 14:00:00', freq='H'), Timestamp('2000-01-24 22:00:00', freq='H'), Timestamp('2001-10-26 11:00:00', freq='H'), Timestamp('2000-02-27 16:00:00', freq='H'), Timestamp('2000-03-01 05:00:00', freq='H'), Timestamp('2000-10-27 21:00:00', freq='H'), Timestamp('2000-01-21 12:00:00', freq='H'), Timestamp('2000-01-22 08:00:00', freq='H'), Timestamp('2000-01-23 18:00:00', freq='H'), Timestamp('2000-03-31 04:00:00', freq='H'), Timestamp('2001-10-26 05:00:00', freq='H'), Timestamp('2001-11-29 08:00:00', freq='H'), Timestamp('2000-01-28 00:00:00', freq='H'), Timestamp('2000-01-22 21:00:00', freq='H'), Timestamp('2000-02-28 13:00:00', freq='H'), Timestamp('2000-01-23 17:00:00', freq='H'), Timestamp('2001-12-04 03:00:00', freq='H'), Timestamp('2000-02-28 09:00:00', freq='H'), Timestamp('2001-12-01 23:00:00', freq='H'), Timestamp('2000-03-31 01:00:00', freq='H'), Timestamp('2001-12-02 14:00:00', freq='H'), Timestamp('2000-01-24 14:00:00', freq='H'), Timestamp('2000-01-27 11:00:00', freq='H'), Timestamp('2000-01-24 09:00:00', freq='H'), Timestamp('2001-03-30 03:00:00', freq='H'), Timestamp('2001-11-29 13:00:00', freq='H'), Timestamp('2001-12-01 14:00:00', freq='H'), Timestamp('2000-01-25 21:00:00', freq='H'), Timestamp('2001-11-29 11:00:00', freq='H'), Timestamp('2000-01-25 11:00:00', freq='H'), Timestamp('2001-03-30 09:00:00', freq='H'), Timestamp('2000-10-27 07:00:00', freq='H'), Timestamp('2000-01-23 10:00:00', freq='H'), Timestamp('2000-02-28 07:00:00', freq='H'), Timestamp('2001-01-24 13:00:00', freq='H'), Timestamp('2000-02-28 03:00:00', freq='H'), Timestamp('2001-10-26 13:00:00', freq='H'), Timestamp('2000-01-26 10:00:00', freq='H'), Timestamp('2000-02-28 06:00:00', freq='H'), Timestamp('2000-10-08 15:00:00', freq='H'), Timestamp('2000-08-29 05:00:00', freq='H'), Timestamp('2000-02-28 14:00:00', freq='H'), Timestamp('2001-12-05 03:00:00', freq='H'), Timestamp('2000-01-24 18:00:00', freq='H'), Timestamp('2000-02-28 23:00:00', freq='H'), Timestamp('2000-01-21 15:00:00', freq='H'), Timestamp('2001-12-01 19:00:00', freq='H'), Timestamp('2000-01-21 04:00:00', freq='H'), Timestamp('2001-10-26 04:00:00', freq='H'), Timestamp('2000-01-21 02:00:00', freq='H'), Timestamp('2000-01-21 20:00:00', freq='H'), Timestamp('2000-01-23 23:00:00', freq='H'), Timestamp('2001-03-30 06:00:00', freq='H'), Timestamp('2001-03-30 07:00:00', freq='H'), Timestamp('2001-03-30 21:00:00', freq='H'), Timestamp('2000-03-31 17:00:00', freq='H'), Timestamp('2000-03-01 02:00:00', freq='H'), Timestamp('2000-01-24 23:00:00', freq='H'), Timestamp('2001-09-06 14:00:00', freq='H'), Timestamp('2001-11-30 07:00:00', freq='H'), Timestamp('2000-01-21 03:00:00', freq='H'), Timestamp('2000-01-25 16:00:00', freq='H'), Timestamp('2000-08-29 12:00:00', freq='H'), Timestamp('2001-12-06 08:00:00', freq='H'), Timestamp('2000-10-27 18:00:00', freq='H'), Timestamp('2000-01-28 02:00:00', freq='H'), Timestamp('2000-01-27 16:00:00', freq='H'), Timestamp('2000-10-08 13:00:00', freq='H'), Timestamp('2001-12-04 07:00:00', freq='H'), Timestamp('2000-08-29 08:00:00', freq='H'), Timestamp('2000-03-31 20:00:00', freq='H'), Timestamp('2001-03-30 02:00:00', freq='H'), Timestamp('2001-12-06 13:00:00', freq='H'), Timestamp('2000-02-29 01:00:00', freq='H'), Timestamp('2000-08-30 08:00:00', freq='H'), Timestamp('2001-03-30 18:00:00', freq='H'), Timestamp('2001-12-05 16:00:00', freq='H'), Timestamp('2001-10-26 16:00:00', freq='H'), Timestamp('2001-10-26 06:00:00', freq='H'), Timestamp('2001-09-06 10:00:00', freq='H'), Timestamp('2001-11-29 18:00:00', freq='H'), Timestamp('2001-11-29 20:00:00', freq='H'), Timestamp('2001-12-06 11:00:00', freq='H'), Timestamp('2000-10-27 05:00:00', freq='H'), Timestamp('2000-10-27 14:00:00', freq='H'), Timestamp('2000-01-21 16:00:00', freq='H'), Timestamp('2000-01-21 09:00:00', freq='H'), Timestamp('2001-12-05 07:00:00', freq='H'), Timestamp('2000-01-26 03:00:00', freq='H'), Timestamp('2001-10-26 07:00:00', freq='H'), Timestamp('2001-11-30 21:00:00', freq='H'), Timestamp('2001-12-04 18:00:00', freq='H'), Timestamp('2000-02-28 00:00:00', freq='H'), Timestamp('2001-12-02 00:00:00', freq='H'), Timestamp('2000-01-28 12:00:00', freq='H'), Timestamp('2001-12-03 15:00:00', freq='H'), Timestamp('2000-01-23 00:00:00', freq='H'), Timestamp('2001-12-05 05:00:00', freq='H'), Timestamp('2000-01-25 06:00:00', freq='H'), Timestamp('2001-03-30 13:00:00', freq='H'), Timestamp('2000-10-27 12:00:00', freq='H'), Timestamp('2000-02-28 22:00:00', freq='H'), Timestamp('2001-12-05 02:00:00', freq='H'), Timestamp('2001-12-02 18:00:00', freq='H'), Timestamp('2000-01-21 06:00:00', freq='H'), Timestamp('2000-01-24 17:00:00', freq='H'), Timestamp('2000-10-27 20:00:00', freq='H'), Timestamp('2000-01-27 12:00:00', freq='H'), Timestamp('2001-03-30 05:00:00', freq='H'), Timestamp('2000-10-27 13:00:00', freq='H'), Timestamp('2001-12-01 22:00:00', freq='H'), Timestamp('2000-01-25 01:00:00', freq='H'), Timestamp('2001-09-05 16:00:00', freq='H'), Timestamp('2001-12-02 13:00:00', freq='H'), Timestamp('2001-11-29 19:00:00', freq='H'), Timestamp('2000-01-24 12:00:00', freq='H'), Timestamp('2001-12-02 23:00:00', freq='H'), Timestamp('2000-01-24 02:00:00', freq='H'), Timestamp('2000-10-08 10:00:00', freq='H'), Timestamp('2000-01-27 23:00:00', freq='H'), Timestamp('2000-02-29 19:00:00', freq='H'), Timestamp('2001-12-04 02:00:00', freq='H'), Timestamp('2000-01-24 15:00:00', freq='H'), Timestamp('2000-01-24 01:00:00', freq='H'), Timestamp('2000-03-01 04:00:00', freq='H'), Timestamp('2001-11-30 08:00:00', freq='H'), Timestamp('2001-10-26 02:00:00', freq='H'), Timestamp('2001-03-30 04:00:00', freq='H'), Timestamp('2000-02-29 21:00:00', freq='H'), Timestamp('2001-09-05 11:00:00', freq='H'), Timestamp('2000-01-24 13:00:00', freq='H'), Timestamp('2000-03-31 15:00:00', freq='H'), Timestamp('2001-09-05 15:00:00', freq='H'), Timestamp('2001-01-25 11:00:00', freq='H'), Timestamp('2000-01-22 12:00:00', freq='H'), Timestamp('2000-01-22 16:00:00', freq='H'), Timestamp('2000-01-26 01:00:00', freq='H'), Timestamp('2000-01-27 06:00:00', freq='H'), Timestamp('2001-12-03 21:00:00', freq='H'), Timestamp('2000-01-27 03:00:00', freq='H'), Timestamp('2000-01-25 12:00:00', freq='H'), Timestamp('2001-12-02 17:00:00', freq='H'), Timestamp('2001-12-05 18:00:00', freq='H'), Timestamp('2000-02-29 09:00:00', freq='H'), Timestamp('2000-01-24 19:00:00', freq='H'), Timestamp('2000-01-22 17:00:00', freq='H'), Timestamp('2000-01-21 11:00:00', freq='H'), Timestamp('2000-02-28 17:00:00', freq='H'), Timestamp('2000-01-27 21:00:00', freq='H'), Timestamp('2000-01-22 00:00:00', freq='H'), Timestamp('2000-01-26 06:00:00', freq='H'), Timestamp('2001-03-30 17:00:00', freq='H'), Timestamp('2000-02-29 14:00:00', freq='H'), Timestamp('2001-12-01 03:00:00', freq='H'), Timestamp('2000-01-28 07:00:00', freq='H'), Timestamp('2000-02-28 21:00:00', freq='H'), Timestamp('2001-12-02 19:00:00', freq='H'), Timestamp('2001-12-03 11:00:00', freq='H'), Timestamp('2000-01-23 06:00:00', freq='H'), Timestamp('2001-12-04 17:00:00', freq='H'), Timestamp('2000-01-25 19:00:00', freq='H'), Timestamp('2000-10-07 09:00:00', freq='H'), Timestamp('2001-12-05 01:00:00', freq='H'), Timestamp('2001-12-01 18:00:00', freq='H'), Timestamp('2001-12-01 15:00:00', freq='H'), Timestamp('2000-08-30 10:00:00', freq='H'), Timestamp('2000-01-27 09:00:00', freq='H'), Timestamp('2000-10-27 09:00:00', freq='H'), Timestamp('2001-12-04 19:00:00', freq='H'), Timestamp('2000-01-21 14:00:00', freq='H'), Timestamp('2001-11-29 12:00:00', freq='H'), Timestamp('2000-01-22 14:00:00', freq='H'), Timestamp('2000-01-26 04:00:00', freq='H'), Timestamp('2001-12-05 15:00:00', freq='H'), Timestamp('2000-01-25 14:00:00', freq='H'), Timestamp('2001-12-05 14:00:00', freq='H'), Timestamp('2001-11-29 15:00:00', freq='H'), Timestamp('2000-02-28 05:00:00', freq='H'), Timestamp('2001-01-24 14:00:00', freq='H'), Timestamp('2001-10-26 01:00:00', freq='H'), Timestamp('2001-01-25 14:00:00', freq='H'), Timestamp('2001-11-30 12:00:00', freq='H'), Timestamp('2001-12-04 20:00:00', freq='H'), Timestamp('2001-12-05 11:00:00', freq='H'), Timestamp('2001-12-04 22:00:00', freq='H'), Timestamp('2001-11-29 10:00:00', freq='H'), Timestamp('2001-03-30 01:00:00', freq='H'), Timestamp('2000-01-23 12:00:00', freq='H'), Timestamp('2001-03-30 20:00:00', freq='H'), Timestamp('2001-03-30 15:00:00', freq='H'), Timestamp('2001-12-04 14:00:00', freq='H'), Timestamp('2000-03-01 13:00:00', freq='H'), Timestamp('2000-10-27 15:00:00', freq='H'), Timestamp('2000-02-29 06:00:00', freq='H'), Timestamp('2001-12-02 11:00:00', freq='H'), Timestamp('2000-08-30 12:00:00', freq='H'), Timestamp('2001-11-30 03:00:00', freq='H'), Timestamp('2001-12-01 01:00:00', freq='H'), Timestamp('2000-01-23 22:00:00', freq='H'), Timestamp('2000-02-27 22:00:00', freq='H'), Timestamp('2000-01-21 23:00:00', freq='H'), Timestamp('2000-01-23 03:00:00', freq='H'), Timestamp('2001-12-02 06:00:00', freq='H'), Timestamp('2001-10-26 21:00:00', freq='H'), Timestamp('2000-10-27 03:00:00', freq='H'), Timestamp('2001-12-02 07:00:00', freq='H'), Timestamp('2000-01-27 10:00:00', freq='H'), Timestamp('2000-01-22 06:00:00', freq='H'), Timestamp('2000-02-29 18:00:00', freq='H'), Timestamp('2001-11-30 05:00:00', freq='H'), Timestamp('2001-12-03 09:00:00', freq='H'), Timestamp('2000-02-29 16:00:00', freq='H'), Timestamp('2000-01-27 05:00:00', freq='H'), Timestamp('2000-01-21 10:00:00', freq='H'), Timestamp('2000-10-27 08:00:00', freq='H'), Timestamp('2001-03-29 23:00:00', freq='H'), Timestamp('2000-01-28 01:00:00', freq='H'), Timestamp('2001-10-26 00:00:00', freq='H'), Timestamp('2000-01-23 15:00:00', freq='H'), Timestamp('2000-01-23 07:00:00', freq='H'), Timestamp('2000-01-25 09:00:00', freq='H'), Timestamp('2001-12-04 09:00:00', freq='H'), Timestamp('2000-02-28 11:00:00', freq='H'), Timestamp('2000-01-27 00:00:00', freq='H'), Timestamp('2000-02-29 15:00:00', freq='H'), Timestamp('2000-08-29 10:00:00', freq='H'), Timestamp('2001-01-25 13:00:00', freq='H'), Timestamp('2000-02-28 01:00:00', freq='H'), Timestamp('2000-01-21 08:00:00', freq='H'), Timestamp('2000-02-28 20:00:00', freq='H'), Timestamp('2001-09-05 12:00:00', freq='H'), Timestamp('2001-12-01 21:00:00', freq='H'), Timestamp('2001-12-05 20:00:00', freq='H'), Timestamp('2000-02-27 12:00:00', freq='H'), Timestamp('2000-03-31 06:00:00', freq='H'), Timestamp('2001-12-05 10:00:00', freq='H'), Timestamp('2000-01-22 03:00:00', freq='H'), Timestamp('2001-12-03 20:00:00', freq='H'), Timestamp('2000-03-31 11:00:00', freq='H'), Timestamp('2000-03-01 17:00:00', freq='H'), Timestamp('2001-12-02 08:00:00', freq='H'), Timestamp('2001-12-02 16:00:00', freq='H'), Timestamp('2001-12-03 07:00:00', freq='H'), Timestamp('2000-03-01 03:00:00', freq='H'), Timestamp('2001-10-26 15:00:00', freq='H'), Timestamp('2000-10-07 14:00:00', freq='H'), Timestamp('2001-03-30 08:00:00', freq='H'), Timestamp('2000-01-25 20:00:00', freq='H'), Timestamp('2001-12-06 10:00:00', freq='H'), Timestamp('2000-01-22 04:00:00', freq='H'), Timestamp('2000-10-27 23:00:00', freq='H'), Timestamp('2000-03-30 23:00:00', freq='H'), Timestamp('2000-02-28 16:00:00', freq='H'), Timestamp('2001-12-04 10:00:00', freq='H'), Timestamp('2000-01-22 13:00:00', freq='H'), Timestamp('2001-12-06 01:00:00', freq='H'), Timestamp('2000-01-22 02:00:00', freq='H'), Timestamp('2000-01-22 18:00:00', freq='H'), Timestamp('2001-12-01 13:00:00', freq='H'), Timestamp('2000-01-26 12:00:00', freq='H'), Timestamp('2000-01-27 04:00:00', freq='H'), Timestamp('2001-09-05 08:00:00', freq='H'), Timestamp('2000-03-01 11:00:00', freq='H'), Timestamp('2000-01-25 13:00:00', freq='H'), Timestamp('2000-02-29 23:00:00', freq='H'), Timestamp('2000-01-21 19:00:00', freq='H'), Timestamp('2000-02-27 14:00:00', freq='H'), Timestamp('2001-12-03 00:00:00', freq='H'), Timestamp('2000-01-23 01:00:00', freq='H'), Timestamp('2001-12-05 23:00:00', freq='H'), Timestamp('2001-11-30 13:00:00', freq='H'), Timestamp('2001-12-05 00:00:00', freq='H'), Timestamp('2000-03-31 18:00:00', freq='H'), Timestamp('2001-11-30 14:00:00', freq='H'), Timestamp('2001-12-04 05:00:00', freq='H'), Timestamp('2001-01-25 12:00:00', freq='H'), Timestamp('2000-01-21 05:00:00', freq='H'), Timestamp('2001-11-29 09:00:00', freq='H'), Timestamp('2000-02-27 19:00:00', freq='H'), Timestamp('2000-01-23 21:00:00', freq='H'), Timestamp('2000-01-25 18:00:00', freq='H'), Timestamp('2001-10-26 08:00:00', freq='H'), Timestamp('2000-02-28 10:00:00', freq='H'), Timestamp('2001-12-06 03:00:00', freq='H'), Timestamp('2000-01-25 00:00:00', freq='H'), Timestamp('2000-02-29 04:00:00', freq='H'), Timestamp('2000-02-29 12:00:00', freq='H'), Timestamp('2001-11-30 16:00:00', freq='H'), Timestamp('2000-10-07 10:00:00', freq='H'), Timestamp('2001-10-26 03:00:00', freq='H'), Timestamp('2000-08-29 13:00:00', freq='H'), Timestamp('2000-10-27 19:00:00', freq='H'), Timestamp('2000-10-08 12:00:00', freq='H'), Timestamp('2000-02-28 18:00:00', freq='H'), Timestamp('2001-12-05 19:00:00', freq='H'), Timestamp('2000-02-27 20:00:00', freq='H'), Timestamp('2000-10-27 02:00:00', freq='H'), Timestamp('2000-01-24 16:00:00', freq='H'), Timestamp('2000-01-26 13:00:00', freq='H'), Timestamp('2001-03-30 12:00:00', freq='H'), Timestamp('2000-08-30 07:00:00', freq='H'), Timestamp('2001-12-05 13:00:00', freq='H'), Timestamp('2000-03-01 14:00:00', freq='H'), Timestamp('2000-01-25 02:00:00', freq='H'), Timestamp('2000-01-28 05:00:00', freq='H'), Timestamp('2001-11-30 10:00:00', freq='H'), Timestamp('2000-01-21 07:00:00', freq='H'), Timestamp('2000-01-26 05:00:00', freq='H'), Timestamp('2000-10-07 11:00:00', freq='H'), Timestamp('2001-09-05 09:00:00', freq='H'), Timestamp('2000-03-01 06:00:00', freq='H'), Timestamp('2000-01-28 04:00:00', freq='H'), Timestamp('2000-03-01 15:00:00', freq='H'), Timestamp('2001-03-30 11:00:00', freq='H'), Timestamp('2000-10-26 23:00:00', freq='H'), Timestamp('2000-01-21 18:00:00', freq='H'), Timestamp('2000-03-31 10:00:00', freq='H'), Timestamp('2001-11-29 14:00:00', freq='H'), Timestamp('2000-03-01 09:00:00', freq='H'), Timestamp('2000-01-23 11:00:00', freq='H'), Timestamp('2000-10-07 08:00:00', freq='H'), Timestamp('2000-01-22 15:00:00', freq='H'), Timestamp('2000-08-29 09:00:00', freq='H'), Timestamp('2001-12-06 02:00:00', freq='H'), Timestamp('2000-01-26 20:00:00', freq='H'), Timestamp('2000-03-31 13:00:00', freq='H'), Timestamp('2000-02-29 00:00:00', freq='H'), Timestamp('2000-01-22 19:00:00', freq='H'), Timestamp('2000-02-27 18:00:00', freq='H'), Timestamp('2001-12-03 18:00:00', freq='H'), Timestamp('2001-09-05 13:00:00', freq='H'), Timestamp('2000-10-08 07:00:00', freq='H'), Timestamp('2000-01-22 10:00:00', freq='H'), Timestamp('2000-02-28 02:00:00', freq='H'), Timestamp('2000-01-25 08:00:00', freq='H'), Timestamp('2001-12-03 06:00:00', freq='H'), Timestamp('2000-01-27 02:00:00', freq='H')}\n"
     ]
    }
   ],
   "source": [
    "_ = check_index_length(raw, freq='1H')"
   ]
  },
  {
   "cell_type": "code",
   "execution_count": 8,
   "metadata": {},
   "outputs": [
    {
     "data": {
      "text/html": [
       "<div>\n",
       "<style scoped>\n",
       "    .dataframe tbody tr th:only-of-type {\n",
       "        vertical-align: middle;\n",
       "    }\n",
       "\n",
       "    .dataframe tbody tr th {\n",
       "        vertical-align: top;\n",
       "    }\n",
       "\n",
       "    .dataframe thead th {\n",
       "        text-align: right;\n",
       "    }\n",
       "</style>\n",
       "<table border=\"1\" class=\"dataframe\">\n",
       "  <thead>\n",
       "    <tr style=\"text-align: right;\">\n",
       "      <th></th>\n",
       "      <th>ForecastingTime</th>\n",
       "      <th>AirPressure</th>\n",
       "      <th>Temperature</th>\n",
       "      <th>Humidity</th>\n",
       "      <th>WindSpeed100m</th>\n",
       "      <th>WindSpeed10m</th>\n",
       "      <th>WindDirectionZonal</th>\n",
       "      <th>WindDirectionMeridional</th>\n",
       "      <th>PowerGeneration</th>\n",
       "    </tr>\n",
       "  </thead>\n",
       "  <tbody>\n",
       "    <tr>\n",
       "      <th>2000-01-01 01:00:00</th>\n",
       "      <td>25</td>\n",
       "      <td>0.392238</td>\n",
       "      <td>0.406113</td>\n",
       "      <td>0.638134</td>\n",
       "      <td>0.625094</td>\n",
       "      <td>0.548931</td>\n",
       "      <td>0.820776</td>\n",
       "      <td>0.883540</td>\n",
       "      <td>0.506970</td>\n",
       "    </tr>\n",
       "    <tr>\n",
       "      <th>2000-01-01 02:00:00</th>\n",
       "      <td>26</td>\n",
       "      <td>0.379920</td>\n",
       "      <td>0.405190</td>\n",
       "      <td>0.614377</td>\n",
       "      <td>0.628325</td>\n",
       "      <td>0.563099</td>\n",
       "      <td>0.812227</td>\n",
       "      <td>0.890531</td>\n",
       "      <td>0.579394</td>\n",
       "    </tr>\n",
       "    <tr>\n",
       "      <th>2000-01-01 03:00:00</th>\n",
       "      <td>27</td>\n",
       "      <td>0.367603</td>\n",
       "      <td>0.404268</td>\n",
       "      <td>0.590621</td>\n",
       "      <td>0.631556</td>\n",
       "      <td>0.577266</td>\n",
       "      <td>0.803525</td>\n",
       "      <td>0.897331</td>\n",
       "      <td>0.524848</td>\n",
       "    </tr>\n",
       "    <tr>\n",
       "      <th>2000-01-01 04:00:00</th>\n",
       "      <td>28</td>\n",
       "      <td>0.360061</td>\n",
       "      <td>0.401325</td>\n",
       "      <td>0.598596</td>\n",
       "      <td>0.629573</td>\n",
       "      <td>0.582233</td>\n",
       "      <td>0.791599</td>\n",
       "      <td>0.906165</td>\n",
       "      <td>0.543939</td>\n",
       "    </tr>\n",
       "    <tr>\n",
       "      <th>2000-01-01 05:00:00</th>\n",
       "      <td>29</td>\n",
       "      <td>0.352519</td>\n",
       "      <td>0.398381</td>\n",
       "      <td>0.606571</td>\n",
       "      <td>0.627590</td>\n",
       "      <td>0.587199</td>\n",
       "      <td>0.779416</td>\n",
       "      <td>0.914640</td>\n",
       "      <td>0.620606</td>\n",
       "    </tr>\n",
       "  </tbody>\n",
       "</table>\n",
       "</div>"
      ],
      "text/plain": [
       "                     ForecastingTime  AirPressure  Temperature  Humidity  \\\n",
       "2000-01-01 01:00:00               25     0.392238     0.406113  0.638134   \n",
       "2000-01-01 02:00:00               26     0.379920     0.405190  0.614377   \n",
       "2000-01-01 03:00:00               27     0.367603     0.404268  0.590621   \n",
       "2000-01-01 04:00:00               28     0.360061     0.401325  0.598596   \n",
       "2000-01-01 05:00:00               29     0.352519     0.398381  0.606571   \n",
       "\n",
       "                     WindSpeed100m  WindSpeed10m  WindDirectionZonal  \\\n",
       "2000-01-01 01:00:00       0.625094      0.548931            0.820776   \n",
       "2000-01-01 02:00:00       0.628325      0.563099            0.812227   \n",
       "2000-01-01 03:00:00       0.631556      0.577266            0.803525   \n",
       "2000-01-01 04:00:00       0.629573      0.582233            0.791599   \n",
       "2000-01-01 05:00:00       0.627590      0.587199            0.779416   \n",
       "\n",
       "                     WindDirectionMeridional  PowerGeneration  \n",
       "2000-01-01 01:00:00                 0.883540         0.506970  \n",
       "2000-01-01 02:00:00                 0.890531         0.579394  \n",
       "2000-01-01 03:00:00                 0.897331         0.524848  \n",
       "2000-01-01 04:00:00                 0.906165         0.543939  \n",
       "2000-01-01 05:00:00                 0.914640         0.620606  "
      ]
     },
     "execution_count": 8,
     "metadata": {},
     "output_type": "execute_result"
    }
   ],
   "source": [
    "raw.head()"
   ]
  },
  {
   "cell_type": "markdown",
   "metadata": {},
   "source": [
    "# Feature engineering"
   ]
  },
  {
   "cell_type": "code",
   "execution_count": 9,
   "metadata": {},
   "outputs": [],
   "source": [
    "from sklearn.pipeline import make_pipeline, make_union\n",
    "\n",
    "from sklearn.preprocessing import StandardScaler\n",
    "\n",
    "import utils.pipelines as p\n",
    "\n",
    "\n",
    "def make_feature_pipeline(LAGS, HORIZIONS):\n",
    "\n",
    "    lag_target = make_pipeline(\n",
    "        p.ColumnSelector(['PowerGeneration']),\n",
    "        p.OffsetGenerator('lag', LAGS),\n",
    "        p.AlignPandas(LAGS, HORIZIONS),\n",
    "        p.AsMatrix()\n",
    "    )\n",
    "    \n",
    "    lag_features = make_pipeline(\n",
    "        p.ColumnDropper(['PowerGeneration', 'ForecastingTime']),\n",
    "        p.OffsetGenerator('lag', [LAGS[0]]),\n",
    "        p.AlignPandas(LAGS, HORIZIONS),\n",
    "        p.AsMatrix()\n",
    "    )\n",
    "    \n",
    "    #  might be wrong!!!!! becuase data is hourly!!!\n",
    "    cyclical_h = make_pipeline(\n",
    "        p.HourlyCyclicalFeatures(),\n",
    "        p.AlignPandas(LAGS, HORIZIONS),\n",
    "        p.AsMatrix()\n",
    "    )\n",
    "    \n",
    "    fc_time_cyclical = make_pipeline(\n",
    "        p.ColumnSelector(['ForecastingTime']),\n",
    "        p.CyclicalFeatures(raw.loc[:, 'ForecastingTime'].max()),\n",
    "        p.AlignPandas(LAGS, HORIZIONS),\n",
    "        p.AsMatrix(),\n",
    "    )\n",
    "    \n",
    "    return make_union(lag_target, lag_features, cyclical_h, fc_time_cyclical)\n",
    "\n",
    "def make_feature_cols(LAGS, HORIZIONS):\n",
    "    lag_target_cols = ['PowerGeneration lag_{}'.format(l) for l in LAGS]\n",
    "    lag_feature_cols = p.ColumnDropper(['PowerGeneration', 'ForecastingTime']).transform(raw).columns.tolist()\n",
    "    lag_feature_cols = ['{} lag_{}'.format(col, 0) for col in lag_feature_cols]\n",
    "    cyclical_h_cols = ['H_sin', 'H_cos']\n",
    "    cyclical_fctime_cols = ['ForecastingTime sin', 'ForecastingTime cos']\n",
    "    cols = lag_target_cols\n",
    "    cols.extend(lag_feature_cols)\n",
    "    cols.extend(cyclical_h_cols)\n",
    "    cols.extend(cyclical_fctime_cols)\n",
    "    \n",
    "    return cols\n",
    "    \n",
    "def make_target_pipeline(LAGS, HORIZIONS):\n",
    "    return make_pipeline(p.ColumnSelector('PowerGeneration'),\n",
    "                         p.OffsetGenerator('horizion', HORIZIONS),\n",
    "                         p.AlignPandas(LAGS, HORIZIONS),\n",
    "                         p.AsMatrix())"
   ]
  },
  {
   "cell_type": "code",
   "execution_count": 10,
   "metadata": {},
   "outputs": [],
   "source": [
    "LAGS = [0, 1, 2, 3, 4]\n",
    "HORIZIONS = [1]\n",
    "\n",
    "feature_pipe = make_feature_pipeline(LAGS, HORIZIONS)\n",
    "feature_cols = make_feature_cols(LAGS, HORIZIONS)\n",
    "\n",
    "target_pipe = make_target_pipeline(LAGS, HORIZIONS)"
   ]
  },
  {
   "cell_type": "code",
   "execution_count": 15,
   "metadata": {},
   "outputs": [
    {
     "name": "stdout",
     "output_type": "stream",
     "text": [
      "features shape (11839, 16) target shape (11839, 1)\n"
     ]
    }
   ],
   "source": [
    "split = int(0.3 * raw.shape[0])\n",
    "holdout = raw.iloc[-split:, :]\n",
    "data = raw.iloc[:-split, :]\n",
    "\n",
    "assert holdout.shape[0] + data.shape[0] == raw.shape[0]\n",
    "\n",
    "features = feature_pipe.fit_transform(data)\n",
    "\n",
    "assert features.shape[1] == len(feature_cols)\n",
    "\n",
    "target = target_pipe.fit_transform(data)\n",
    "\n",
    "print('features shape {} target shape {}'.format(features.shape, target.shape))"
   ]
  },
  {
   "cell_type": "code",
   "execution_count": null,
   "metadata": {},
   "outputs": [],
   "source": [
    "def plot_feature_importances(rf, cols):\n",
    "    importances = pd.DataFrame()\n",
    "    importances.loc[:, 'importances'] = rf.feature_importances_\n",
    "    importances.loc[:, 'features'] = cols\n",
    "    importances.sort_values('importances', inplace=True)\n",
    "    return single_ax_plot(importances, 'features', 'importances', kind='barh', color='b')"
   ]
  },
  {
   "cell_type": "code",
   "execution_count": null,
   "metadata": {},
   "outputs": [],
   "source": [
    "out = cross_validation(\n",
    "    RandomForestRegressor, \n",
    "    {'n_estimators': 2000, 'max_features': 0.5},\n",
    "    make_feature_pipeline,\n",
    "    make_target_pipeline,\n",
    "    {'LAGS':LAGS, 'HORIZIONS': HORIZIONS},\n",
    "    raw,\n",
    "    n_folds=3,\n",
    "    verbose=True)"
   ]
  },
  {
   "cell_type": "code",
   "execution_count": null,
   "metadata": {},
   "outputs": [],
   "source": [
    "_ = plot_feature_importances(out['models'][-3], feature_cols)"
   ]
  },
  {
   "cell_type": "code",
   "execution_count": null,
   "metadata": {},
   "outputs": [],
   "source": [
    "out"
   ]
  },
  {
   "cell_type": "code",
   "execution_count": null,
   "metadata": {},
   "outputs": [],
   "source": [
    "model = out['models'][-3]"
   ]
  },
  {
   "cell_type": "code",
   "execution_count": null,
   "metadata": {},
   "outputs": [],
   "source": [
    "preds = pd.DataFrame()\n",
    "preds.loc[:, 'predictions'] = model.predict(features)"
   ]
  },
  {
   "cell_type": "code",
   "execution_count": null,
   "metadata": {},
   "outputs": [],
   "source": [
    "subset = raw.iloc[max(LAGS):-max(HORIZIONS), :]\n",
    "actuals = subset.loc[:, 'PowerGeneration'].shift(1)"
   ]
  },
  {
   "cell_type": "code",
   "execution_count": null,
   "metadata": {},
   "outputs": [],
   "source": [
    "preds.index = actuals.index\n",
    "preds.loc[:, 'actuals'] = actuals"
   ]
  },
  {
   "cell_type": "code",
   "execution_count": null,
   "metadata": {},
   "outputs": [],
   "source": [
    "import matplotlib.pyplot as plt\n",
    "f, a = plt.subplots(figsize=(30, 10))\n",
    "\n",
    "preds = preds.iloc[-200:, :]\n",
    "\n",
    "preds.plot(ax=a, y='actuals')\n",
    "preds.plot(ax=a, y='predictions')"
   ]
  },
  {
   "cell_type": "code",
   "execution_count": null,
   "metadata": {},
   "outputs": [],
   "source": []
  }
 ],
 "metadata": {
  "kernelspec": {
   "display_name": "Python 3",
   "language": "python",
   "name": "python3"
  },
  "language_info": {
   "codemirror_mode": {
    "name": "ipython",
    "version": 3
   },
   "file_extension": ".py",
   "mimetype": "text/x-python",
   "name": "python",
   "nbconvert_exporter": "python",
   "pygments_lexer": "ipython3",
   "version": "3.5.4"
  }
 },
 "nbformat": 4,
 "nbformat_minor": 2
}
